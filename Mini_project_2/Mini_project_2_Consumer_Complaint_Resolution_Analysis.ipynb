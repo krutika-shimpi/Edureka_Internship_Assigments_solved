{
  "nbformat": 4,
  "nbformat_minor": 0,
  "metadata": {
    "colab": {
      "provenance": []
    },
    "kernelspec": {
      "name": "python3",
      "display_name": "Python 3"
    },
    "language_info": {
      "name": "python"
    }
  },
  "cells": [
    {
      "cell_type": "markdown",
      "source": [
        "# *`Mini Project 2 – Consumer Complaint Resolution Analysis Using Python`*\n",
        "\n",
        "**Scenario:**\n",
        "\n",
        "Product review is the most basic function/factor in resolving customer issues and increasing the sales growth of any product. We can understand their mindset toward our service without asking each customer.\n",
        "When consumers are unhappy with some aspect of a business, they reach out to customer service and might raise a complaint. Companies try their best to resolve the complaints that they receive. However, it might not always be possible to appease every customer.\n",
        "\n",
        "So Here, we will analyze data, and with the help of different algorithms, we are finding the best classification of customer category so that we can predict our test data.\n",
        "\n",
        "**Objective:**\n",
        "\n",
        "Use Python libraries such as Pandas for data operations, Seaborn and Matplotlib for data visualization and EDA tasks, Sklearn for model building and performance visualization, and based on the best model, make a prediction for the test file and save the output.\n",
        "\n",
        "The main objective is to predict whether our customer is disputed or not with the help of given data.\n",
        "\n",
        "\\\n",
        "**Dataset description:**\n",
        "\n",
        "Customers faced some issues and tried to report their problems to customer care.\n",
        "Dispute: This is our target variable based on train data; we have two groups, one with a dispute with the bank and another don’t have any issue with the bank.\n",
        "Date received: The day complaint was received.\n",
        "\n",
        "\\\n",
        "1. **Product:** different products offered by the bank (credit cards, debit cards, different types of transaction methods, accounts, locker services, and money-related)\n",
        "\n",
        "2. **Sub-product:** loan, insurance, other mortgage options\n",
        "\n",
        "3. **Issue:** Complaint of customers\n",
        "\n",
        "4. **Company public response:** Company’s response to consumer complaint\n",
        "\n",
        "5. **Company:** Company name\n",
        "\n",
        "6. **State:** State where the customer lives (different state of USA)\n",
        "\n",
        "7. **ZIP code:** Where the customer lives\n",
        "\n",
        "8. **Submitted via:** Register complaints via different platforms (online web, phone, referral, fax, post mail)\n",
        "\n",
        "9. **Date sent to company:** The day complaint was registered\n",
        "\n",
        "10. **Timely response?:** Yes/no\n",
        "\n",
        "11. **Consumer disputed?:** yes/no (target variable)\n",
        "\n",
        "12. **Complaint ID:** unique to each consumer"
      ],
      "metadata": {
        "id": "OCX10aado6lV"
      }
    },
    {
      "cell_type": "code",
      "source": [],
      "metadata": {
        "id": "reET5x0Opwgn"
      },
      "execution_count": null,
      "outputs": []
    }
  ]
}