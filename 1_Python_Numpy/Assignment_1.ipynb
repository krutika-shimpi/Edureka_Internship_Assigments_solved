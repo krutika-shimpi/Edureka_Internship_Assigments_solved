{
  "cells": [
    {
      "cell_type": "markdown",
      "metadata": {
        "id": "iKmG2NAm__k9"
      },
      "source": [
        "Problem Statement 1: Write a Python program to multiply a 𝑀 × 𝑁 matrix by 𝑁 × 𝐴 matrix and\n",
        "create a real matrix product.\n",
        "\n",
        "Example:\n",
        "\n",
        "Input:\n",
        "Enter value M: 5\n",
        "Enter value N: 3\n",
        "Enter value A: 2\n",
        "\n",
        "Output:\n",
        "\n",
        "First array:\n",
        "[[0.92825664 0.62790011 0.80130199]\n",
        "[0.64283876 0.16558409 0.54573802]\n",
        "[0.04319311 0.80229079 0.72512472]\n",
        "[0.8005622 0.98844625 0.6982794 ]\n",
        "[0.46600134 0.51451131 0.6415925 ]]\n",
        "\n",
        "Second array:\n",
        "[[0.31898348 0.49050318]\n",
        "[0.53845583 0.48259499]\n",
        "[0.89102055 0.35539951]]\n",
        "\n",
        "Dot product of two arrays:\n",
        "[[1.34817154 1.04311661]\n",
        "[0.78047845 0.58917954]\n",
        "[1.09187707 0.66607684]\n",
        "[1.40978205 1.11786566]\n",
        "[0.99736045 0.70489738]]"
      ]
    },
    {
      "cell_type": "code",
      "execution_count": null,
      "metadata": {
        "colab": {
          "base_uri": "https://localhost:8080/"
        },
        "id": "Gsd9OUc1_Wgk",
        "outputId": "46ae5c63-7653-4163-950b-41045fb5acfd"
      },
      "outputs": [
        {
          "name": "stdout",
          "output_type": "stream",
          "text": [
            "Enter value M: 5\n",
            "Enter value N: 3\n",
            "Enter value A: 2\n",
            "Type 'Y' to provide custom input. Otherwise, type 'N' to continue with random numbers: y\n",
            "Enter 15 elements: 0.92825664 0.62790011 0.80130199 0.64283876 0.16558409 0.54573802 0.04319311 0.80229079 0.72512472 0.8005622 0.98844625 0.6982794 0.46600134 0.51451131 0.6415925\n",
            "Enter 6 elements: 0.31898348 0.49050318 0.53845583 0.48259499 0.89102055 0.35539951\n",
            "\n",
            "First Array:\n",
            " [[0.92825664 0.62790011 0.80130199]\n",
            " [0.64283876 0.16558409 0.54573802]\n",
            " [0.04319311 0.80229079 0.72512472]\n",
            " [0.8005622  0.98844625 0.6982794 ]\n",
            " [0.46600134 0.51451131 0.6415925 ]]\n",
            "\n",
            "Second Array:\n",
            " [[0.31898348 0.49050318]\n",
            " [0.53845583 0.48259499]\n",
            " [0.89102055 0.35539951]]\n",
            "\n",
            "Dot product of two arrays:\n",
            " [[1.34817155 1.04311662]\n",
            " [0.78047845 0.58917953]\n",
            " [1.09187707 0.66607684]\n",
            " [1.40978206 1.11786567]\n",
            " [0.99736045 0.70489738]]\n"
          ]
        }
      ],
      "source": [
        "import numpy as np\n",
        "import random as rd\n",
        "\n",
        "def list_array_conversion(in_list):\n",
        "  \"\"\"\n",
        "  list_array_conversion(list):\n",
        "  This function accepts a list of strings as a parameter and returns a one dimensional integer array.\n",
        "\n",
        "  sample_output:\n",
        "  in_list=['1', '2', '3', '4', '5', '6', '7', '8', '9']\n",
        "  list_array_conversion(in_list)\n",
        "  [1 2 3 4 5 6 7 8 9]\n",
        "  \"\"\"\n",
        "  for i in range(len(in_list)):\n",
        "    in_list[i]=float(in_list[i])\n",
        "  return np.array(in_list)\n",
        "\n",
        "def generate_random_float_list(random_length):\n",
        "  \"\"\"\n",
        "  generate_random_float_list(random_length):\n",
        "  This function accepts length as a parameter and returns a list of random numbers between 1 to 100.\n",
        "\n",
        "  sample_output:\n",
        "  generate_random_list(4)\n",
        "  generate_random_list(random_length)\n",
        "  [22 34 10 7]\n",
        "  \"\"\"\n",
        "  random_list=[]\n",
        "  while random_length!=0:\n",
        "    i=rd.random()\n",
        "    random_list.append(i)\n",
        "    random_length=random_length-1\n",
        "  return random_list\n",
        "\n",
        "\n",
        "# Accepting the dimensions of both the matrices\n",
        "m=int(input(\"Enter value M: \"))\n",
        "n=int(input(\"Enter value N: \"))\n",
        "a=int(input(\"Enter value A: \"))\n",
        "\n",
        "user_choice=input(\"Type 'Y' to provide custom input. Otherwise, type 'N' to continue with random numbers: \")\n",
        "if user_choice.lower()=='y':\n",
        "  # Accepting the list of input values and storing them as a separate element using the split function\n",
        "  input_list1=input(f\"Enter {m*n} elements: \").split()\n",
        "\n",
        "  if len(input_list1)>(m*n) or len(input_list1)<(m*n):\n",
        "    raise Exception(\"You did not entered the required number of elements in given range. Program Ended..!\")\n",
        "\n",
        "  input_list2=input(f\"Enter {n*a} elements: \").split()\n",
        "  if len(input_list2)>(n*a) or len(input_list2)<(n*a):\n",
        "    raise Exception(\"You did not entered the required number of elements in given range. Program Ended..!\")\n",
        "\n",
        "  input_list1=list_array_conversion(input_list1)\n",
        "  input_list2=list_array_conversion(input_list2)\n",
        "\n",
        "else:\n",
        "  input_list1=generate_random_float_list(m*n)\n",
        "  input_list2=generate_random_float_list(n*a)\n",
        "\n",
        "#Using the numpy.reshape function to convert the list into an array and store as per the respective dimensions\n",
        "first_array=np.reshape(input_list1,(m,n))\n",
        "second_array=np.reshape(input_list2,(n,a))\n",
        "\n",
        "#Printing the Matrices and their Dot product\n",
        "print(\"\\nFirst Array:\\n\",first_array)\n",
        "print(\"\\nSecond Array:\\n\",second_array)\n",
        "print(\"\\nDot product of two arrays:\\n\",np.dot(first_array, second_array))\n"
      ]
    },
    {
      "cell_type": "markdown",
      "metadata": {
        "id": "4_AH2qQgNlMu"
      },
      "source": [
        "Problem Statement 2: Write a NumPy program to check if each element of an array of your choice is composed of digits, lower case letters, and upper case letters only.\n",
        "\n",
        "Hint: You can use isdigit(),islower(), and isupper() function.\n",
        "\n",
        "Example:\n",
        "\n",
        " Input: Original Array:\n",
        "\n",
        " ['Python' 'PHP' 'JS' 'Examples' 'html5' '5']\n",
        "\n",
        "3\n",
        "\n",
        " Output: Digits only = [False False False False False True]\n",
        "\n",
        " Lower cases only = [False False False False True\n",
        "False]\n",
        "\n",
        " Upper cases only = [False True True False False\n",
        "False]"
      ]
    },
    {
      "cell_type": "code",
      "execution_count": null,
      "metadata": {
        "colab": {
          "base_uri": "https://localhost:8080/"
        },
        "id": "QMx4axgQ_cwA",
        "outputId": "d2e41e27-f25e-4247-e235-790d468efa54"
      },
      "outputs": [
        {
          "name": "stdout",
          "output_type": "stream",
          "text": [
            "How many elements you want to enter in the array : 6\n",
            "Enter 6 elements separated by space: Python PHP JS Examples html5 5\n",
            "\n",
            "Original Array: ['Python' 'PHP' 'JS' 'Examples' 'html5' '5']\n",
            "\n",
            "Digits only = [False False False False False  True]\n",
            "\n",
            "Lower cases only = [False False False False  True False]\n",
            "\n",
            "Upper cases only = [False  True  True False False False]\n"
          ]
        }
      ],
      "source": [
        "import numpy as np\n",
        "\n",
        "# Accepting a custom length input from the user by asking the length of the input\n",
        "length=int(input(\"How many elements you want to enter in the array : \"))\n",
        "# Storing the user input sequence in a list as a separate element using split() function\n",
        "input_list=input(f\"Enter {length} elements separated by space: \").split()\n",
        "if len(input_list)<length:\n",
        "  raise Exception(\"You did not entered the elements in the given range..!\")\n",
        "# Converting the input list to a an numpy array\n",
        "input_array=np.array(input_list)\n",
        "\n",
        "# Checking each element of the array whether it is a digit only, a lowercase or an uppercase element and storing them into a new array\n",
        "digits_only = np.char.isdigit(input_array)\n",
        "lowercases_only = np.char.islower(input_array)\n",
        "uppercases_only = np.char.isupper(input_array)\n",
        "\n",
        "#printing the final output to console\n",
        "print(\"\\nOriginal Array:\", input_array)\n",
        "print(\"\\nDigits only =\", digits_only )\n",
        "print(\"\\nLower cases only =\", lowercases_only )\n",
        "print(\"\\nUpper cases only =\", uppercases_only )"
      ]
    },
    {
      "cell_type": "markdown",
      "metadata": {
        "id": "q1e_HNuPc8p9"
      },
      "source": [
        "Problem Statement 3: Write a program that reads two space-separated positive integers 𝑋 and\n",
        "𝑌 as input and perform the following tasks:\n",
        "Tasks to be performed:\n",
        "1. Create a list (lst1) starting at one (1) with 16 elements at a step of 𝑋\n",
        "2. Create a list (lst2) starting at one (1) with 16 elements at a step of 𝑌\n",
        "3. Create two NumPy arrays np1 and np2 using lst1 and lst2 respectively\n",
        "4. Reshape both the NumPy arrays to (4,4)\n",
        "5. Create a new np array (np3) with values obtained by subtracting both the arrays (np1 -\n",
        "np2)\n",
        "6. Print all the elements of np3 in a single dimension list like the format as shown below:\n",
        "a. [n0 n1 n2 n3 n4 n5 n6 n7 n8]\n",
        "Example:\n",
        "Input:\n",
        "7 9\n",
        "Output:\n",
        "[ 0 -2 -4 -6 -8 -10 -12 -14 -16 -18 -20 -22 -24 -26 -28 -30]\n",
        "\n"
      ]
    },
    {
      "cell_type": "code",
      "execution_count": null,
      "metadata": {
        "colab": {
          "base_uri": "https://localhost:8080/"
        },
        "id": "I54wt7mHUYmF",
        "outputId": "fc6ee73b-554a-4c62-b7ca-2934e5e3b36a"
      },
      "outputs": [
        {
          "name": "stdout",
          "output_type": "stream",
          "text": [
            "Please enter two numbers (for e.g: 3 4):7 9\n",
            "\n",
            " [  0  -2  -4  -6  -8 -10 -12 -14 -16 -18 -20 -22 -24 -26 -28 -30]\n"
          ]
        }
      ],
      "source": [
        "import numpy as np\n",
        "\n",
        "\n",
        "def accept(num):\n",
        "  \"\"\"\n",
        "  accept(num):\n",
        "  This is an accept function which takes one parameter num. It will return a list of 16 elements with the step value of num\n",
        "\n",
        "  Sample output:\n",
        "  accept(3)\n",
        "  list=[1, 4, 7, 10, 13, 16, 19, 22, 25, 28, 31, 34, 37, 40, 43, 46]\n",
        "\n",
        "  \"\"\"\n",
        "  lst=[]\n",
        "  for i in range(1,(16*num),num):\n",
        "    lst.append(i)\n",
        "  return lst\n",
        "\n",
        "#Accepting the numbers from user and storing the in a list called numbers\n",
        "numbers=input(\"Please enter two numbers (for e.g: 3 4):\").split()\n",
        "lst1=accept(int(numbers[0]))\n",
        "lst2=accept(int(numbers[1]))\n",
        "\n",
        "#Creating a numpy array from the input list\n",
        "np1=np.array(lst1)\n",
        "np2=np.array(lst2)\n",
        "\n",
        "#Reshaping the array into a 4 [row] 4 [column], two dimensional array using numpy.reshape function and passing the array with required dimension\n",
        "np1=np.reshape(np1,(4,4))\n",
        "np2=np.reshape(np2,(4,4))\n",
        "\n",
        "#Subtracting numpy array1 from numpy array2 and storing the output into a third array called np3\n",
        "np3=(np1-np2)\n",
        "\n",
        "#Creating a view of np3 array to print all the elements of np3 in a single dimension list like the format using the numpy.ravel() function.\n",
        "np3=np.ravel(np3)\n",
        "\n",
        "#Printing the final output to console\n",
        "print(\"\\n\",np3)"
      ]
    },
    {
      "cell_type": "markdown",
      "metadata": {
        "id": "kX1XqUgtp2ko"
      },
      "source": [
        "Problem Statement 4: Write a Python program that takes two integer-NumPy arrays, 𝑃 and 𝑄 of\n",
        "shape [3 ∗ 3] and perform the following task:\n",
        "Task to be performed:\n",
        "Print the element-wise difference of the matrix 𝑃 and 𝑄 (𝑃 − 𝑄).\n",
        "Example:\n",
        "Input:\n",
        "23 56 87 3 6 96 4 6 78\n",
        "12 34 54 7 2 54 6 2 78\n",
        "Output:\n",
        "[[11 22 33]\n",
        "[-4 4 42]\n",
        "[-2 4 0]]"
      ]
    },
    {
      "cell_type": "code",
      "execution_count": null,
      "metadata": {
        "colab": {
          "base_uri": "https://localhost:8080/"
        },
        "id": "Gczl5aIlfpZP",
        "outputId": "1a821fb8-df49-4ec1-bb8c-4aa3fc1c7532"
      },
      "outputs": [
        {
          "name": "stdout",
          "output_type": "stream",
          "text": [
            "Type 'y' to provide custom input. Otherwise type 'n' to continue the random calculation: y\n",
            "Enter the dimension of your choice for the array (Max array size=4): 3\n",
            "Enter 9 elements separated by space for first array: 23 56 87 3 6 96 4 6 78\n",
            "Enter 9 elements separated by space for second array: 12 34 54 7 2 54 6 2 78\n",
            "\n",
            "P:\n",
            " [[23 56 87]\n",
            " [ 3  6 96]\n",
            " [ 4  6 78]]\n",
            "\n",
            "Q:\n",
            " [[12 34 54]\n",
            " [ 7  2 54]\n",
            " [ 6  2 78]]\n",
            "\n",
            "[P - Q] Output:\n",
            " [[11 22 33]\n",
            " [-4  4 42]\n",
            " [-2  4  0]]\n"
          ]
        }
      ],
      "source": [
        "import numpy as np\n",
        "import random as rd\n",
        "\n",
        "def list_array_conversion(in_list):\n",
        "  \"\"\"\n",
        "  list_array_conversion(list):\n",
        "  This function accepts a list of strings as a parameter and returns a one dimensional integer array.\n",
        "\n",
        "  sample_output:\n",
        "  in_list=['1', '2', '3', '4', '5', '6', '7', '8', '9']\n",
        "  list_array_conversion(in_list)\n",
        "  [1 2 3 4 5 6 7 8 9]\n",
        "\n",
        "  \"\"\"\n",
        "  for i in range(len(in_list)):\n",
        "    in_list[i]=int(in_list[i])\n",
        "  return np.array(in_list)\n",
        "\n",
        "def generate_random_list(random_length):\n",
        "  \"\"\"\n",
        "  generate_random_list(random_length):\n",
        "  This function accepts length as a parameter and returns a list of random numbers between 1 to 100.\n",
        "\n",
        "  sample_output:\n",
        "  generate_random_list(4)\n",
        "  generate_random_list(random_length)\n",
        "  [22 34 10 7]\n",
        "  \"\"\"\n",
        "  random_list=[]\n",
        "  while random_length!=0:\n",
        "    i=rd.randint(0,99)\n",
        "    random_list.append(i)\n",
        "    random_length=random_length-1\n",
        "  return random_list\n",
        "\n",
        "\n",
        "#Accepting user's choice whether to do the array subtraction using random numbers or by user's choice\n",
        "choice=input(\"Type 'y' to provide custom input. Otherwise type 'n' to continue the random calculation: \")\n",
        "\n",
        "if choice.lower()=='y':\n",
        "  #Accepting the array dimensions from the user\n",
        "  in_length=int(input(\"Enter the dimension of your choice for the array (Max array size=4): \"))\n",
        "  if in_length > 4:\n",
        "    raise Exception(\"You did not specify the length in the given range. Program ended.\")\n",
        "  elif in_length==0:\n",
        "    raise Exception(\"Array dimension cannot be zero.\")\n",
        "\n",
        "  # Accepting the input from user for a fixed length entered by the user\n",
        "  in_list1=input(f\"Enter {in_length**2} elements separated by space for first array: \").split()\n",
        "\n",
        "  if len(in_list1)<in_length**2:\n",
        "    raise Exception(\"You did not specify the elements in the given range. Program ended.\")\n",
        "\n",
        "  in_list2=input(f\"Enter {in_length**2} elements separated by space for second array: \").split()\n",
        "\n",
        "  if len(in_list2)<in_length**2:\n",
        "    raise Exception(\"You did not specify the elements in the given range. Program ended.\")\n",
        "\n",
        "  in_list1=list_array_conversion(in_list1)\n",
        "  in_list2=list_array_conversion(in_list2)\n",
        "\n",
        "else:\n",
        "  #Taking random inputs using the random.randint() function\n",
        "  in_length=rd.randint(1,4)\n",
        "  in_list1=generate_random_list(in_length**2)\n",
        "  in_list2=generate_random_list(in_length**2)\n",
        "  print(\"\\nRandomly generated output:\")\n",
        "\n",
        "#Reshape the array to the accepted dimension\n",
        "p=np.reshape(in_list1,(in_length,in_length))\n",
        "q=np.reshape(in_list2,(in_length,in_length))\n",
        "\n",
        "#Performing element wise subtraction and storing the output to another array r\n",
        "r=p-q\n",
        "\n",
        "#print the final output\n",
        "print(\"\\nP:\\n\",p)\n",
        "print(\"\\nQ:\\n\",q)\n",
        "print(\"\\n[P - Q] Output:\\n\",r)"
      ]
    },
    {
      "cell_type": "code",
      "execution_count": null,
      "metadata": {
        "id": "SPSl2LnEsJjz"
      },
      "outputs": [],
      "source": []
    }
  ],
  "metadata": {
    "colab": {
      "provenance": []
    },
    "kernelspec": {
      "display_name": "Python 3 (ipykernel)",
      "language": "python",
      "name": "python3"
    },
    "language_info": {
      "codemirror_mode": {
        "name": "ipython",
        "version": 3
      },
      "file_extension": ".py",
      "mimetype": "text/x-python",
      "name": "python",
      "nbconvert_exporter": "python",
      "pygments_lexer": "ipython3",
      "version": "3.10.2"
    }
  },
  "nbformat": 4,
  "nbformat_minor": 0
}