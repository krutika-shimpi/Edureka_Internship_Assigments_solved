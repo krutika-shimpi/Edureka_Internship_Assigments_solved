{
  "nbformat": 4,
  "nbformat_minor": 0,
  "metadata": {
    "colab": {
      "provenance": []
    },
    "kernelspec": {
      "name": "python3",
      "display_name": "Python 3"
    },
    "language_info": {
      "name": "python"
    }
  },
  "cells": [
    {
      "cell_type": "code",
      "execution_count": 1,
      "metadata": {
        "id": "TV4kdeudPb5t"
      },
      "outputs": [],
      "source": [
        "# Mini project 1"
      ]
    },
    {
      "cell_type": "code",
      "source": [],
      "metadata": {
        "id": "DD_qdoDZcv_4"
      },
      "execution_count": null,
      "outputs": []
    }
  ]
}